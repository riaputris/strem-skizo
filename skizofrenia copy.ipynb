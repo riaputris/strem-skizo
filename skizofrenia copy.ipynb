{
 "cells": [
  {
   "cell_type": "code",
   "execution_count": 16,
   "metadata": {},
   "outputs": [],
   "source": [
    "# Modelling\n",
    "from sklearn.ensemble import RandomForestClassifier\n",
    "from sklearn.metrics import accuracy_score, confusion_matrix, precision_score, recall_score, ConfusionMatrixDisplay\n",
    "from sklearn.model_selection import RandomizedSearchCV, train_test_split\n",
    "from sklearn.datasets import make_classification\n",
    "import matplotlib.pyplot as plt\n",
    "import pandas as pd\n",
    "\n",
    "#Memangil dataset  dalam bentuk xls\n",
    "\n",
    "data= pd.read_excel('/Users/aningfara/Documents/coba streamlit/Salinan kurangvar5.xlsx')"
   ]
  },
  {
   "cell_type": "code",
   "execution_count": 2,
   "metadata": {},
   "outputs": [
    {
     "name": "stdout",
     "output_type": "stream",
     "text": [
      "<class 'pandas.core.frame.DataFrame'>\n",
      "RangeIndex: 240 entries, 0 to 239\n",
      "Data columns (total 30 columns):\n",
      " #   Column                                          Non-Null Count  Dtype \n",
      "---  ------                                          --------------  ----- \n",
      " 0   G11_PERASAAN_KHAWATIR                           240 non-null    int64 \n",
      " 1   G17_MEMBERONTAK                                 240 non-null    int64 \n",
      " 2   G19_TIDAK_BERAKTIFITAS                          240 non-null    int64 \n",
      " 3   G20_SEDIH_MENANGIS                              240 non-null    int64 \n",
      " 4   G21_SEDIKIT_BICARA                              240 non-null    int64 \n",
      " 5   G23_TERGANGGU                                   240 non-null    int64 \n",
      " 6   G29 _BICARA                                     240 non-null    int64 \n",
      " 7   G30_PUTUSASA                                    240 non-null    int64 \n",
      " 8   G31_CEMAS                                       240 non-null    int64 \n",
      " 9   G35_MENGURUNG                                   240 non-null    int64 \n",
      " 10  G43_KEINGINAN_BUNUH_DIRI                        240 non-null    int64 \n",
      " 11  G44_PERCOBAAN_BUNDIR                            240 non-null    int64 \n",
      " 12  G48_TIDAK_BERSOSIALISASI                        240 non-null    int64 \n",
      " 13  G49_KEPIKIRAN_SESUATU                           240 non-null    int64 \n",
      " 14  G50_DIAM_SAAT_PEMERIKSAAN                       240 non-null    int64 \n",
      " 15  G51_PIKIRAN_KACAU                               240 non-null    int64 \n",
      " 16  G52_TIDAK_BERSEMANGAT                           240 non-null    int64 \n",
      " 17  G55_MENGALAMI_PERMASALAHAN_SEBELUMNYA           240 non-null    int64 \n",
      " 18  G57_PERASAANLELAH                               240 non-null    int64 \n",
      " 19  G59_KETAKUTAN                                   240 non-null    int64 \n",
      " 20  G65_HALUSINASI_DIANCAM                          240 non-null    int64 \n",
      " 21  G74_WAHAM_REFERENSI_MERASA_DIBICARAKAN          240 non-null    int64 \n",
      " 22  G76_WAHAM_PERSEKUTORIK_MERASA_DIJAHATI          240 non-null    int64 \n",
      " 23  G80_WAHAM_MAGIC_MISTIK                          240 non-null    int64 \n",
      " 24  G83_MERASA_SESEORANG_BERKATA_JELEK              240 non-null    int64 \n",
      " 25  G84_MERASA_ADA_BAYANG-BAYANG                    240 non-null    int64 \n",
      " 26  G87_MENUDUH_SESEORANG_BERBUAT_JAHAT             240 non-null    int64 \n",
      " 27  G88_DELUSI_BADAN_MERASA_DIKENDALIKAN_DARI_LUAR  240 non-null    int64 \n",
      " 28  G94_CURIGA_BERLEBIHAN                           240 non-null    int64 \n",
      " 29  Diagnos_encoding_mapping                        240 non-null    object\n",
      "dtypes: int64(29), object(1)\n",
      "memory usage: 56.4+ KB\n"
     ]
    }
   ],
   "source": [
    "data.info()"
   ]
  },
  {
   "cell_type": "code",
   "execution_count": 12,
   "metadata": {},
   "outputs": [
    {
     "data": {
      "text/plain": [
       "Undifferentiated                                     70\n",
       "Paranoid                                             70\n",
       "Shizoaffective disorder, depressive type             70\n",
       "Severe depressive episode with psychotic symptoms    30\n",
       "Name: Diagnos_encoding_mapping, dtype: int64"
      ]
     },
     "execution_count": 12,
     "metadata": {},
     "output_type": "execute_result"
    }
   ],
   "source": [
    "data[\"Diagnos_encoding_mapping\"].value_counts()"
   ]
  },
  {
   "cell_type": "code",
   "execution_count": 6,
   "metadata": {},
   "outputs": [
    {
     "name": "stdout",
     "output_type": "stream",
     "text": [
      "Jumlah sampel sebelum oversampling: 240\n",
      "Jumlah sampel setelah oversampling: 280\n"
     ]
    }
   ],
   "source": [
    "from imblearn.over_sampling import SMOTE\n",
    "import pandas as pd\n",
    "\n",
    "#pisahkan fitur dan target\n",
    "X = data.drop(columns=['Diagnos_encoding_mapping'], axis=1)\n",
    "y = data['Diagnos_encoding_mapping']\n",
    "from sklearn.model_selection import train_test_split\n",
    "\n",
    "X_train, X_test, y_train, y_test = train_test_split(X,y, test_size =0.2, random_state=0)\n",
    "#inisialisasi SMOTE\n",
    "smote = SMOTE (random_state=42)\n",
    "\n",
    "#oversampling menggunakan SMOTE\n",
    "X_resampled, y_resampled = smote.fit_resample(X, y)\n",
    "\n",
    "#cek jumlah sampel setelah oversampling\n",
    "print(\"Jumlah sampel sebelum oversampling:\", len(X))\n",
    "print(\"Jumlah sampel setelah oversampling:\",len(X_resampled))\n",
    "\n",
    "#balikan ke dalam DataFrame\n",
    "resampled_data = pd.concat([pd.DataFrame(X_resampled, columns=X.columns), pd.DataFrame(y_resampled, columns=['Diagnos_encoding_mapping'])], axis=1)\n",
    "resampled_data.to_excel('skizofrenia.xlsx', index=False)"
   ]
  },
  {
   "cell_type": "code",
   "execution_count": 7,
   "metadata": {},
   "outputs": [
    {
     "name": "stdout",
     "output_type": "stream",
     "text": [
      "0.8958333333333334\n",
      "Skor akurat data testing 0.90\n",
      "Score data training :0.95\n",
      "Score data testing :0.90\n"
     ]
    }
   ],
   "source": [
    "from sklearn.ensemble import RandomForestClassifier\n",
    "import seaborn as sns\n",
    "model = RandomForestClassifier()\n",
    "model.fit(X_train, y_train)\n",
    "print(model.score(X_test, y_test))\n",
    "y_pred = model.predict(X_test)\n",
    "print ('Skor akurat data testing {0:0.2f}'.format(accuracy_score(y_test, y_pred)))\n",
    "y_pred_train = model.predict(X_train)\n",
    "y_pred_train\n",
    "print ('Score data training :{:.2f}'.format(model.score(X_train, y_train)))\n",
    "print ('Score data testing :{:.2f}'.format(model.score(X_test, y_test)))"
   ]
  },
  {
   "cell_type": "code",
   "execution_count": 9,
   "metadata": {},
   "outputs": [
    {
     "data": {
      "image/png": "[encoded data removed]",
      "text/plain": [
       "<Figure size 640x480 with 2 Axes>"
      ]
     },
     "metadata": {},
     "output_type": "display_data"
    },
    {
     "name": "stdout",
     "output_type": "stream",
     "text": [
      "                                                   precision    recall  f1-score   support\n",
      "\n",
      "                                         Paranoid       1.00      0.88      0.93        16\n",
      "Severe depressive episode with psychotic symptoms       1.00      1.00      1.00         5\n",
      "         Shizoaffective disorder, depressive type       0.80      0.92      0.86        13\n",
      "                                 Undifferentiated       0.86      0.86      0.86        14\n",
      "\n",
      "                                         accuracy                           0.90        48\n",
      "                                        macro avg       0.91      0.91      0.91        48\n",
      "                                     weighted avg       0.90      0.90      0.90        48\n",
      "\n"
     ]
    }
   ],
   "source": [
    "from sklearn.metrics import confusion_matrix\n",
    "cn = confusion_matrix(y_test, y_pred)\n",
    "sns.heatmap (cn, annot=True)\n",
    "plt.title(\"Confusion Matrix for Random Forest\")\n",
    "plt.xlabel(\"Predicted\")\n",
    "plt.ylabel(\"Actual\")\n",
    "plt.show()\n",
    "from sklearn.metrics import classification_report\n",
    "print(classification_report(y_test, y_pred))"
   ]
  },
  {
   "cell_type": "code",
   "execution_count": 11,
   "metadata": {},
   "outputs": [],
   "source": [
    "import pickle\n",
    "pickle.dump (model, open('diagnosa.pkl', 'wb'))"
   ]
  }
 ],
 "metadata": {
  "kernelspec": {
   "display_name": "base",
   "language": "python",
   "name": "python3"
  },
  "language_info": {
   "codemirror_mode": {
    "name": "ipython",
    "version": 3
   },
   "file_extension": ".py",
   "mimetype": "text/x-python",
   "name": "python",
   "nbconvert_exporter": "python",
   "pygments_lexer": "ipython3",
   "version": "3.11.4"
  }
 },
 "nbformat": 4,
 "nbformat_minor": 0
}
